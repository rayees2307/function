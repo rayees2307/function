{
  "nbformat": 4,
  "nbformat_minor": 0,
  "metadata": {
    "colab": {
      "provenance": []
    },
    "kernelspec": {
      "name": "python3",
      "display_name": "Python 3"
    },
    "language_info": {
      "name": "python"
    }
  },
  "cells": [
    {
      "cell_type": "code",
      "execution_count": null,
      "metadata": {
        "id": "cNo7DqcDVSZV"
      },
      "outputs": [],
      "source": []
    },
    {
      "cell_type": "markdown",
      "source": [
        "# functions\n"
      ],
      "metadata": {
        "id": "IJuEpBcdXffO"
      }
    },
    {
      "cell_type": "code",
      "source": [],
      "metadata": {
        "id": "t9swvID_XlIO"
      },
      "execution_count": null,
      "outputs": []
    },
    {
      "cell_type": "markdown",
      "source": [
        "1.what is the diffrence between a function and a method in python ?\n",
        "   - a function is independent and can be called from anywhere ,while a method is tied to a class or object and must be called on that object or within that class.\n",
        "2. second question\n",
        "   - this is answer for second question ."
      ],
      "metadata": {
        "id": "j54v8kIzXpFl"
      }
    },
    {
      "cell_type": "code",
      "source": [
        "# question\n",
        "'''\n",
        "this is the answer\n",
        "'''"
      ],
      "metadata": {
        "colab": {
          "base_uri": "https://localhost:8080/",
          "height": 36
        },
        "id": "0KbQsG0vY_tB",
        "outputId": "cfa6442a-2c50-44bf-eb90-0551ac988f5e"
      },
      "execution_count": 3,
      "outputs": [
        {
          "output_type": "execute_result",
          "data": {
            "text/plain": [
              "'\\nthis is the answer \\n'"
            ],
            "application/vnd.google.colaboratory.intrinsic+json": {
              "type": "string"
            }
          },
          "metadata": {},
          "execution_count": 3
        }
      ]
    },
    {
      "cell_type": "code",
      "source": [],
      "metadata": {
        "id": "O-j_djBvaEKm"
      },
      "execution_count": null,
      "outputs": []
    }
  ]
}